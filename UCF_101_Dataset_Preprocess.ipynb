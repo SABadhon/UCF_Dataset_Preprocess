{
 "cells": [
  {
   "cell_type": "markdown",
   "metadata": {},
   "source": [
    "### Import Libraries"
   ]
  },
  {
   "cell_type": "code",
   "execution_count": 50,
   "metadata": {},
   "outputs": [],
   "source": [
    "# import your libraries here\n",
    "import cv2\n",
    "import numpy as np\n",
    "import matplotlib.pyplot as plt\n",
    "%matplotlib inline\n",
    "import pandas as pd"
   ]
  },
  {
   "cell_type": "markdown",
   "metadata": {},
   "source": [
    "### Store the name of the videos in a variable\n",
    "The testlist__ and trainlist__ files in the \"Files\" folder contain video names and values.\n",
    "We can choose any of the files to train and test. Here we will take trainlist01 and testlist01 files. As this two contains the largest number of elements."
   ]
  },
  {
   "cell_type": "code",
   "execution_count": 51,
   "metadata": {},
   "outputs": [],
   "source": [
    "# The name of the videos are inside the Folder name \"Files\"\n",
    "# Go to Files and then open the text files. You will see the names.\n",
    "# we have to acces those files and save whatever in thoose in variables.\n",
    "# The files contains already the testset names and training set names and *labels* for the videos\n",
    "    \n",
    "file = open(\"Files/trainlist01.txt\",'r')  # open the file with read mode\n",
    "temp = file.read() # read the file and store the value in temp\n",
    "\n",
    "'''up to this point the file is in text format. To store the contents of\n",
    "the files as matrix or array we have to split it'''\n",
    "\n",
    "names = temp.split('\\n') # we split the files based on new line. \n",
    "# This will create a matrix. This matrix is not well formated.\n",
    "# If you dont believe then use command \n",
    "# print(names)\n",
    "\n",
    "# we have to create a dataframe to hold the names of the videos.\n",
    "# as the \"names\" variable contains not properly formatted value.\n",
    "train = pd.DataFrame()\n",
    "\n",
    "\n",
    "train['video_names'] = names;\n",
    "#print(train);  # you can use this command to check the variable\n",
    "\n",
    "train = train[:-1];  # it slices the string to remove the last character.\n",
    "# No not the labels from every line. But after using \" temp.split('\\n') \" this command. There is a new line at the end.\n",
    "# which is also taken as input. To remove that we use this command\n",
    "# Also it takes out the last elemnt of a vector matrix\n",
    "\n",
    "# print(train)\n",
    "\n",
    "# train.head() # it prints the first 5 lines of dataframe\n"
   ]
  },
  {
   "cell_type": "markdown",
   "metadata": {},
   "source": [
    "### Now store the names of test videos"
   ]
  },
  {
   "cell_type": "code",
   "execution_count": 55,
   "metadata": {},
   "outputs": [],
   "source": [
    "# Here we will store the names of those videos which we will use for testing\n",
    "# we will create a new dataframes and store the names there\n",
    "\n",
    "f = open('Files/testlist01.txt','r')\n",
    "temp = f.read()\n",
    "names =  temp.split('\\n')\n",
    "\n",
    "test = pd.DataFrame()\n",
    "test['video_names'] = names;\n",
    "test = test[:-1]\n",
    "\n",
    "# print(test)"
   ]
  }
 ],
 "metadata": {
  "kernelspec": {
   "display_name": "Python 3",
   "language": "python",
   "name": "python3"
  },
  "language_info": {
   "codemirror_mode": {
    "name": "ipython",
    "version": 3
   },
   "file_extension": ".py",
   "mimetype": "text/x-python",
   "name": "python",
   "nbconvert_exporter": "python",
   "pygments_lexer": "ipython3",
   "version": "3.7.7"
  }
 },
 "nbformat": 4,
 "nbformat_minor": 4
}
